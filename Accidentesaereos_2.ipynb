{
 "cells": [
  {
   "cell_type": "code",
   "execution_count": 1,
   "metadata": {},
   "outputs": [
    {
     "name": "stdout",
     "output_type": "stream",
     "text": [
      "Columnas del DataFrame:\n",
      "Index(['Id', 'Fecha', 'HORA declarada', 'Destino', 'Operador', 'flight_no',\n",
      "       'route', 'Ac_type', 'registration', 'cn_ln', 'All_aboard',\n",
      "       'PASAJEROS A BORDO', 'crew_aboard', 'Cantidad de Fallecidos',\n",
      "       'passenger_fatalities', 'crew_fatalities', 'ground', 'summary',\n",
      "       'Categoria', 'Subcategoria'],\n",
      "      dtype='object')\n",
      "\n",
      "Primeros datos del DataFrame:\n",
      "   Id      Fecha HORA declarada                             Destino  \\\n",
      "0   0  17-Sep-08           1718                 Fort Myer, Virginia   \n",
      "1   1   7-Sep-09              ?             Juvisy-sur-Orge, France   \n",
      "2   2  12-Jul-12            630           Atlantic City, New Jersey   \n",
      "3   3   6-Aug-13              ?  Victoria, British Columbia, Canada   \n",
      "4   4   9-Sep-13           1830                  Over the North Sea   \n",
      "\n",
      "                 Operador flight_no          route                 Ac_type  \\\n",
      "0    Military - U.S. Army         ?  Demonstration        Wright Flyer III   \n",
      "1                       ?         ?       Air show          Wright Byplane   \n",
      "2    Military - U.S. Navy         ?    Test flight               Dirigible   \n",
      "3                 Private         ?              ?        Curtiss seaplane   \n",
      "4  Military - German Navy         ?              ?  Zeppelin L-1 (airship)   \n",
      "\n",
      "  registration cn_ln All_aboard PASAJEROS A BORDO crew_aboard  \\\n",
      "0            ?     1          2                 1           1   \n",
      "1          SC1     ?          1                 0           1   \n",
      "2            ?     ?          5                 0           5   \n",
      "3            ?     ?          1                 0           1   \n",
      "4            ?     ?         20                 ?           ?   \n",
      "\n",
      "  Cantidad de Fallecidos passenger_fatalities crew_fatalities ground  \\\n",
      "0                      1                    1               0      0   \n",
      "1                      1                    0               0      0   \n",
      "2                      5                    0               5      0   \n",
      "3                      1                    0               1      0   \n",
      "4                     14                    ?               ?      0   \n",
      "\n",
      "                                             summary Categoria  \\\n",
      "0  During a demonstration flight, a U.S. Army fly...     otros   \n",
      "1  Eugene Lefebvre was the first pilot to ever be...     otros   \n",
      "2  First U.S. dirigible Akron exploded just offsh...     otros   \n",
      "3  The first fatal airplane accident in Canada oc...     otros   \n",
      "4  The airship flew into a thunderstorm and encou...     otros   \n",
      "\n",
      "          Subcategoria  \n",
      "0  Subcategoría: Otros  \n",
      "1  Subcategoría: Otros  \n",
      "2  Subcategoría: Otros  \n",
      "3  Subcategoría: Otros  \n",
      "4  Subcategoría: Otros  \n"
     ]
    }
   ],
   "source": [
    "import pandas as pd\n",
    "\n",
    "\n",
    "# Ruta al archivo CSV\n",
    "archivo_csv = \"AccidentesAviones.csv\"\n",
    "\n",
    "# Leer el archivo CSV y almacenar los datos en un DataFrame\n",
    "df = pd.read_csv(archivo_csv)\n",
    "\n",
    "print(\"Columnas del DataFrame:\")\n",
    "print(df.columns)\n",
    "\n",
    "# Mostrar los primeros datos del DataFrame\n",
    "print(\"\\nPrimeros datos del DataFrame:\")\n",
    "print(df.head())"
   ]
  },
  {
   "cell_type": "code",
   "execution_count": 2,
   "metadata": {},
   "outputs": [],
   "source": [
    "# Lista de columnas a eliminar\n",
    "columnas_a_eliminar = [\n",
    "    \"HORA declarada\",\n",
    "    \"flight_no\",\n",
    "    \"route\",\n",
    "    \"registration\",\n",
    "    \"cn_ln\",\n",
    "    \"PASAJEROS A BORDO\",\n",
    "    \"crew_aboard\",\n",
    "    \"ground\",\n",
    "    \"summary\",\n",
    "    \"Categoria\",\n",
    "    \"Subcategoria\"\n",
    "]\n",
    "\n",
    "# Eliminar las columnas especificadas del DataFrame\n",
    "df = df.drop(columnas_a_eliminar, axis=1)"
   ]
  },
  {
   "cell_type": "code",
   "execution_count": 3,
   "metadata": {},
   "outputs": [
    {
     "name": "stdout",
     "output_type": "stream",
     "text": [
      "   Id      Fecha                             Destino                Operador  \\\n",
      "0   0  17-Sep-08                 Fort Myer, Virginia    Military - U.S. Army   \n",
      "1   1   7-Sep-09             Juvisy-sur-Orge, France                       ?   \n",
      "2   2  12-Jul-12           Atlantic City, New Jersey    Military - U.S. Navy   \n",
      "3   3   6-Aug-13  Victoria, British Columbia, Canada                 Private   \n",
      "4   4   9-Sep-13                  Over the North Sea  Military - German Navy   \n",
      "\n",
      "                  Ac_type All_aboard Cantidad de Fallecidos  \\\n",
      "0        Wright Flyer III          2                      1   \n",
      "1          Wright Byplane          1                      1   \n",
      "2               Dirigible          5                      5   \n",
      "3        Curtiss seaplane          1                      1   \n",
      "4  Zeppelin L-1 (airship)         20                     14   \n",
      "\n",
      "  passenger_fatalities crew_fatalities  \n",
      "0                    1               0  \n",
      "1                    0               0  \n",
      "2                    0               5  \n",
      "3                    0               1  \n",
      "4                    ?               ?  \n"
     ]
    }
   ],
   "source": [
    "print(df.head())"
   ]
  },
  {
   "cell_type": "code",
   "execution_count": 4,
   "metadata": {},
   "outputs": [
    {
     "name": "stdout",
     "output_type": "stream",
     "text": [
      "Total de filas en el DataFrame: 5006\n",
      "Total de filas con el signo de interrogación (?): 256\n",
      "       Fecha                             Destino All_aboard  \\\n",
      "0  17-Sep-08                 Fort Myer, Virginia          2   \n",
      "1   7-Sep-09             Juvisy-sur-Orge, France          1   \n",
      "2  12-Jul-12           Atlantic City, New Jersey          5   \n",
      "3   6-Aug-13  Victoria, British Columbia, Canada          1   \n",
      "4   9-Sep-13                  Over the North Sea         20   \n",
      "\n",
      "  Cantidad de Fallecidos                Operador                 Ac_type  \\\n",
      "0                      1    Military - U.S. Army        Wright Flyer III   \n",
      "1                      1                       ?          Wright Byplane   \n",
      "2                      5    Military - U.S. Navy               Dirigible   \n",
      "3                      1                 Private        Curtiss seaplane   \n",
      "4                     14  Military - German Navy  Zeppelin L-1 (airship)   \n",
      "\n",
      "  passenger_fatalities crew_fatalities  \n",
      "0                    1               0  \n",
      "1                    0               0  \n",
      "2                    0               5  \n",
      "3                    0               1  \n",
      "4                    ?               ?  \n"
     ]
    }
   ],
   "source": [
    "# Seleccionar las columnas especificadas\n",
    "df = df[['Fecha', 'Destino', 'All_aboard', 'Cantidad de Fallecidos', 'Operador', 'Ac_type', 'passenger_fatalities', 'crew_fatalities']]\n",
    "\n",
    "# Contar el total de filas en el DataFrame\n",
    "total_filas = len(df)\n",
    "\n",
    "# Contar el total de filas que contienen el signo de interrogación (?) en cualquier columna\n",
    "total_filas_con_interrogacion = len(df[df.apply(lambda row: row.astype(str).str.contains('\\?', case=False).any(), axis=1)])\n",
    "\n",
    "# Mostrar los resultados\n",
    "print(\"Total de filas en el DataFrame:\", total_filas)\n",
    "print(\"Total de filas con el signo de interrogación (?):\", total_filas_con_interrogacion)\n",
    "\n",
    "# Mostrar las primeras 5 filas del DataFrame\n",
    "print(df.head())"
   ]
  },
  {
   "cell_type": "code",
   "execution_count": 6,
   "metadata": {},
   "outputs": [
    {
     "name": "stdout",
     "output_type": "stream",
     "text": [
      "        Fecha                             Destino All_aboard  \\\n",
      "0   17-Sep-08                 Fort Myer, Virginia          2   \n",
      "2   12-Jul-12           Atlantic City, New Jersey          5   \n",
      "3    6-Aug-13  Victoria, British Columbia, Canada          1   \n",
      "6    5-Mar-15                     Tienen, Belgium         41   \n",
      "10   1-Oct-16                Potters Bar, England         19   \n",
      "\n",
      "   Cantidad de Fallecidos                Operador                  Ac_type  \\\n",
      "0                       1    Military - U.S. Army         Wright Flyer III   \n",
      "2                       5    Military - U.S. Navy                Dirigible   \n",
      "3                       1                 Private         Curtiss seaplane   \n",
      "6                      17  Military - German Navy   Zeppelin L-8 (airship)   \n",
      "10                     19  Military - German Navy  Zeppelin L-31 (airship)   \n",
      "\n",
      "   passenger_fatalities crew_fatalities  \n",
      "0                     1               0  \n",
      "2                     0               5  \n",
      "3                     0               1  \n",
      "6                     0              17  \n",
      "10                    0              19  \n"
     ]
    }
   ],
   "source": [
    "# Filtrar las filas que no contienen el signo de interrogación (?)\n",
    "df = df[~df.apply(lambda row: row.astype(str).str.contains('\\?', case=False).any(), axis=1)]\n",
    "\n",
    "# Mostrar las primeras 5 filas del DataFrame actualizado\n",
    "print(df.head())\n"
   ]
  },
  {
   "cell_type": "code",
   "execution_count": 7,
   "metadata": {},
   "outputs": [
    {
     "name": "stdout",
     "output_type": "stream",
     "text": [
      "Total de filas en el DataFrame: 4750\n",
      "Total de filas con el signo de interrogación (?): 0\n",
      "        Fecha                             Destino All_aboard  \\\n",
      "0   17-Sep-08                 Fort Myer, Virginia          2   \n",
      "2   12-Jul-12           Atlantic City, New Jersey          5   \n",
      "3    6-Aug-13  Victoria, British Columbia, Canada          1   \n",
      "6    5-Mar-15                     Tienen, Belgium         41   \n",
      "10   1-Oct-16                Potters Bar, England         19   \n",
      "\n",
      "   Cantidad de Fallecidos                Operador                  Ac_type  \\\n",
      "0                       1    Military - U.S. Army         Wright Flyer III   \n",
      "2                       5    Military - U.S. Navy                Dirigible   \n",
      "3                       1                 Private         Curtiss seaplane   \n",
      "6                      17  Military - German Navy   Zeppelin L-8 (airship)   \n",
      "10                     19  Military - German Navy  Zeppelin L-31 (airship)   \n",
      "\n",
      "   passenger_fatalities crew_fatalities  \n",
      "0                     1               0  \n",
      "2                     0               5  \n",
      "3                     0               1  \n",
      "6                     0              17  \n",
      "10                    0              19  \n"
     ]
    }
   ],
   "source": [
    "# Seleccionar las columnas especificadas\n",
    "df = df[['Fecha', 'Destino', 'All_aboard', 'Cantidad de Fallecidos', 'Operador', 'Ac_type', 'passenger_fatalities', 'crew_fatalities']]\n",
    "\n",
    "# Contar el total de filas en el DataFrame\n",
    "total_filas = len(df)\n",
    "\n",
    "# Contar el total de filas que contienen el signo de interrogación (?) en cualquier columna\n",
    "total_filas_con_interrogacion = len(df[df.apply(lambda row: row.astype(str).str.contains('\\?', case=False).any(), axis=1)])\n",
    "\n",
    "# Mostrar los resultados\n",
    "print(\"Total de filas en el DataFrame:\", total_filas)\n",
    "print(\"Total de filas con el signo de interrogación (?):\", total_filas_con_interrogacion)\n",
    "\n",
    "# Mostrar las primeras 5 filas del DataFrame\n",
    "print(df.head())"
   ]
  },
  {
   "cell_type": "code",
   "execution_count": 8,
   "metadata": {},
   "outputs": [
    {
     "name": "stdout",
     "output_type": "stream",
     "text": [
      "Fecha                     0\n",
      "Destino                   0\n",
      "All_aboard                0\n",
      "Cantidad de Fallecidos    0\n",
      "Operador                  0\n",
      "Ac_type                   0\n",
      "passenger_fatalities      0\n",
      "crew_fatalities           0\n",
      "dtype: int64\n"
     ]
    }
   ],
   "source": [
    "# Verificar valores faltantes en las columnas específicas\n",
    "columnas_verificar = ['Fecha', 'Destino', 'All_aboard', 'Cantidad de Fallecidos', 'Operador', 'Ac_type', 'passenger_fatalities', 'crew_fatalities']\n",
    "valores_faltantes = df[columnas_verificar].isnull().sum()\n",
    "print(valores_faltantes)"
   ]
  },
  {
   "cell_type": "code",
   "execution_count": 9,
   "metadata": {},
   "outputs": [],
   "source": [
    "# Convertir columnas a tipos numéricos\n",
    "df['All_aboard'] = pd.to_numeric(df['All_aboard'], errors='coerce')\n",
    "df['Cantidad de Fallecidos'] = pd.to_numeric(df['Cantidad de Fallecidos'], errors='coerce')\n",
    "df['passenger_fatalities'] = pd.to_numeric(df['passenger_fatalities'], errors='coerce')\n",
    "df['crew_fatalities'] = pd.to_numeric(df['crew_fatalities'], errors='coerce')\n"
   ]
  },
  {
   "cell_type": "code",
   "execution_count": 12,
   "metadata": {},
   "outputs": [
    {
     "name": "stdout",
     "output_type": "stream",
     "text": [
      "Empty DataFrame\n",
      "Columns: [Fecha, Destino, All_aboard, Cantidad de Fallecidos, Operador, Ac_type, passenger_fatalities, crew_fatalities]\n",
      "Index: []\n"
     ]
    }
   ],
   "source": [
    "# Verificar registros duplicados\n",
    "registros_duplicados = df.duplicated(subset=columnas_verificar, keep=False)\n",
    "registros_duplicados = df[registros_duplicados]\n",
    "print(registros_duplicados)"
   ]
  },
  {
   "cell_type": "code",
   "execution_count": 13,
   "metadata": {},
   "outputs": [
    {
     "name": "stdout",
     "output_type": "stream",
     "text": [
      "Fecha                     object\n",
      "Destino                   object\n",
      "All_aboard                 int64\n",
      "Cantidad de Fallecidos     int64\n",
      "Operador                  object\n",
      "Ac_type                   object\n",
      "passenger_fatalities       int64\n",
      "crew_fatalities            int64\n",
      "dtype: object\n"
     ]
    }
   ],
   "source": [
    "# Obtener información sobre los tipos de datos de cada columna\n",
    "tipos_de_datos = df.dtypes\n",
    "print(tipos_de_datos)"
   ]
  },
  {
   "cell_type": "code",
   "execution_count": 14,
   "metadata": {},
   "outputs": [],
   "source": [
    "df['Fecha'] = pd.to_datetime(df['Fecha'], format='%d-%b-%y')"
   ]
  },
  {
   "cell_type": "code",
   "execution_count": 19,
   "metadata": {},
   "outputs": [],
   "source": [
    "import pandas as pd\n",
    "from datetime import datetime\n",
    "\n",
    "# Supongamos que la columna 'Fecha' ya está en formato de fecha\n",
    "# Si no lo está, conviértela como se indicó en la respuesta anterior\n",
    "\n",
    "# Obtén la fecha actual\n",
    "fecha_actual = datetime.now()\n",
    "\n",
    "# Filtra las filas con fechas anteriores o iguales a la fecha actual\n",
    "df = df[df['Fecha'] <= fecha_actual]\n",
    "\n",
    "# Ahora df solo contiene las filas con fechas anteriores o iguales a la fecha actual\n",
    "\n"
   ]
  },
  {
   "cell_type": "code",
   "execution_count": 20,
   "metadata": {},
   "outputs": [
    {
     "name": "stdout",
     "output_type": "stream",
     "text": [
      "Fecha máxima: 2023-09-14 00:00:00\n",
      "Fecha mínima: 1969-01-02 00:00:00\n"
     ]
    }
   ],
   "source": [
    "# Convertir la columna 'Fecha' a tipo de dato de fecha\n",
    "df['Fecha'] = pd.to_datetime(df['Fecha'])\n",
    "\n",
    "# Encontrar el valor máximo y mínimo en la columna 'Fecha'\n",
    "fecha_maxima = df['Fecha'].max()\n",
    "fecha_minima = df['Fecha'].min()\n",
    "\n",
    "print(f\"Fecha máxima: {fecha_maxima}\")\n",
    "print(f\"Fecha mínima: {fecha_minima}\")"
   ]
  },
  {
   "cell_type": "code",
   "execution_count": 25,
   "metadata": {},
   "outputs": [
    {
     "name": "stdout",
     "output_type": "stream",
     "text": [
      "       All_aboard                                                        \\\n",
      "            count       mean        std  min    25%   50%    75%    max   \n",
      "Decada                                                                    \n",
      "1960         68.0  37.044118  31.627229  1.0  12.75  29.5  55.25  120.0   \n",
      "1970        597.0  44.122278  55.483507  1.0  10.00  25.0  57.00  644.0   \n",
      "1980        509.0  47.347741  66.171536  0.0   9.00  21.0  53.00  524.0   \n",
      "1990        604.0  39.908940  61.657240  1.0   7.00  16.0  44.00  517.0   \n",
      "2000        498.0  32.588353  51.518171  1.0   5.00  11.0  27.00  309.0   \n",
      "2010        239.0  35.748954  54.973521  0.0   6.00  12.0  42.00  307.0   \n",
      "2020         61.0  16.409836  41.022911  1.0   1.00   2.0   8.00  190.0   \n",
      "\n",
      "       Cantidad de Fallecidos             ...               crew_fatalities  \\\n",
      "                        count       mean  ...    75%    max           count   \n",
      "Decada                                    ...                                 \n",
      "1960                     68.0  28.338235  ...  38.50  120.0            68.0   \n",
      "1970                    597.0  32.592965  ...  40.00  583.0           597.0   \n",
      "1980                    509.0  31.383104  ...  36.00  520.0           509.0   \n",
      "1990                    604.0  25.289735  ...  27.00  349.0           604.0   \n",
      "2000                    498.0  21.975904  ...  18.75  275.0           498.0   \n",
      "2010                    239.0  26.518828  ...  22.00  298.0           239.0   \n",
      "2020                     61.0  10.245902  ...   5.00  176.0            61.0   \n",
      "\n",
      "                                                       \n",
      "            mean       std  min  25%  50%   75%   max  \n",
      "Decada                                                 \n",
      "1960    3.911765  3.696450  0.0  2.0  3.0  5.00  21.0  \n",
      "1970    4.078727  3.588596  0.0  2.0  3.0  5.00  27.0  \n",
      "1980    3.713163  3.435606  0.0  2.0  3.0  5.00  23.0  \n",
      "1990    3.521523  3.347413  0.0  1.0  3.0  5.00  33.0  \n",
      "2000    3.271084  3.105264  0.0  1.0  2.0  4.75  19.0  \n",
      "2010    3.736402  3.292718  0.0  1.0  3.0  6.00  19.0  \n",
      "2020    2.557377  5.649556  0.0  1.0  1.0  2.00  43.0  \n",
      "\n",
      "[7 rows x 24 columns]\n",
      "\n",
      "Porcentaje de Outliers en 'All_aboard' por Década:\n",
      "Decada\n",
      "1960     1.470588\n",
      "1970     6.867672\n",
      "1980    11.001965\n",
      "1990    11.258278\n",
      "2000    16.064257\n",
      "2010    11.715481\n",
      "2020    13.114754\n",
      "Name: All_aboard, dtype: float64\n",
      "\n",
      "Porcentaje de Outliers en 'Cantidad de Fallecidos' por Década:\n",
      "Decada\n",
      "1960     4.411765\n",
      "1970     8.375209\n",
      "1980     9.823183\n",
      "1990    11.423841\n",
      "2000    13.654618\n",
      "2010    13.807531\n",
      "2020    14.754098\n",
      "Name: Cantidad de Fallecidos, dtype: float64\n",
      "\n",
      "Porcentaje de Outliers en 'crew_fatalities' por Década:\n",
      "Decada\n",
      "1960     7.352941\n",
      "1970     6.197655\n",
      "1980     5.500982\n",
      "1990     3.476821\n",
      "2000     3.815261\n",
      "2010     2.092050\n",
      "2020    13.114754\n",
      "Name: crew_fatalities, dtype: float64\n"
     ]
    }
   ],
   "source": [
    "import pandas as pd\n",
    "\n",
    "# Asegúrate de que las columnas sean numéricas\n",
    "df['All_aboard'] = pd.to_numeric(df['All_aboard'], errors='coerce')\n",
    "df['Cantidad de Fallecidos'] = pd.to_numeric(df['Cantidad de Fallecidos'], errors='coerce')\n",
    "df['crew_fatalities'] = pd.to_numeric(df['crew_fatalities'], errors='coerce')\n",
    "\n",
    "# Convertir la columna 'Fecha' a tipo de dato de fecha si aún no lo está\n",
    "df['Fecha'] = pd.to_datetime(df['Fecha'])\n",
    "\n",
    "# Crear una nueva columna 'Decada' que represente la década de cada fecha\n",
    "df['Decada'] = (df['Fecha'].dt.year // 10) * 10\n",
    "\n",
    "# Obtener estadísticas descriptivas y revisar outliers por década\n",
    "estadisticas_por_decada = df.groupby('Decada')[['All_aboard', 'Cantidad de Fallecidos', 'crew_fatalities']].describe()\n",
    "\n",
    "# Definir una función para encontrar outliers\n",
    "def find_outliers(series):\n",
    "    q1 = series.quantile(0.25)\n",
    "    q3 = series.quantile(0.75)\n",
    "    iqr = q3 - q1\n",
    "    lower_bound = q1 - 1.5 * iqr\n",
    "    upper_bound = q3 + 1.5 * iqr\n",
    "    return (series < lower_bound) | (series > upper_bound)\n",
    "\n",
    "# Encontrar outliers por década\n",
    "outliers_all_aboard = df.groupby('Decada')['All_aboard'].apply(find_outliers)\n",
    "outliers_fallecidos = df.groupby('Decada')['Cantidad de Fallecidos'].apply(find_outliers)\n",
    "outliers_crew_fatalities = df.groupby('Decada')['crew_fatalities'].apply(find_outliers)\n",
    "\n",
    "# Calcular porcentaje de outliers por década\n",
    "porcentaje_outliers_all_aboard = outliers_all_aboard.groupby(level=0).mean() * 100\n",
    "porcentaje_outliers_fallecidos = outliers_fallecidos.groupby(level=0).mean() * 100\n",
    "porcentaje_outliers_crew_fatalities = outliers_crew_fatalities.groupby(level=0).mean() * 100\n",
    "\n",
    "# Imprimir estadísticas por década\n",
    "print(estadisticas_por_decada)\n",
    "\n",
    "# Imprimir porcentaje de outliers por década\n",
    "print(f\"\\nPorcentaje de Outliers en 'All_aboard' por Década:\\n{porcentaje_outliers_all_aboard}\")\n",
    "print(f\"\\nPorcentaje de Outliers en 'Cantidad de Fallecidos' por Década:\\n{porcentaje_outliers_fallecidos}\")\n",
    "print(f\"\\nPorcentaje de Outliers en 'crew_fatalities' por Década:\\n{porcentaje_outliers_crew_fatalities}\")\n",
    "\n"
   ]
  },
  {
   "cell_type": "code",
   "execution_count": 26,
   "metadata": {},
   "outputs": [
    {
     "name": "stdout",
     "output_type": "stream",
     "text": [
      "        All_aboard  Cantidad de Fallecidos  crew_fatalities\n",
      "count  2576.000000             2576.000000      2576.000000\n",
      "mean     39.921972               27.383929         3.647516\n",
      "std      57.997842               44.579787         3.464323\n",
      "min       0.000000                0.000000         0.000000\n",
      "25%       7.000000                4.000000         1.000000\n",
      "50%      17.000000               11.000000         3.000000\n",
      "75%      47.000000               30.000000         5.000000\n",
      "max     644.000000              583.000000        43.000000\n",
      "Porcentaje de Outliers en 'All_aboard': 10.64%\n",
      "Porcentaje de Outliers en 'Cantidad de Fallecidos': 11.10%\n",
      "Porcentaje de Outliers en 'crew_fatalities': 3.03%\n"
     ]
    }
   ],
   "source": [
    "# Obtener estadísticas descriptivas y revisar outliers\n",
    "estadisticas = df[['All_aboard', 'Cantidad de Fallecidos', 'crew_fatalities']].describe()\n",
    "q1 = df[['All_aboard', 'Cantidad de Fallecidos', 'crew_fatalities']].quantile(0.25)\n",
    "q3 = df[['All_aboard', 'Cantidad de Fallecidos', 'crew_fatalities']].quantile(0.75)\n",
    "iqr = q3 - q1\n",
    "lower_bound = q1 - 1.5 * iqr\n",
    "upper_bound = q3 + 1.5 * iqr\n",
    "\n",
    "# Encontrar outliers\n",
    "outliers_all_aboard = ((df['All_aboard'] < lower_bound['All_aboard']) | (df['All_aboard'] > upper_bound['All_aboard'])).sum()\n",
    "outliers_fallecidos = ((df['Cantidad de Fallecidos'] < lower_bound['Cantidad de Fallecidos']) | (df['Cantidad de Fallecidos'] > upper_bound['Cantidad de Fallecidos'])).sum()\n",
    "outliers_crew_fatalities = ((df['crew_fatalities'] < lower_bound['crew_fatalities']) | (df['crew_fatalities'] > upper_bound['crew_fatalities'])).sum()\n",
    "\n",
    "# Calcular porcentaje de outliers\n",
    "total_filas = len(df)\n",
    "porcentaje_outliers_all_aboard = (outliers_all_aboard / total_filas) * 100\n",
    "porcentaje_outliers_fallecidos = (outliers_fallecidos / total_filas) * 100\n",
    "porcentaje_outliers_crew_fatalities = (outliers_crew_fatalities / total_filas) * 100\n",
    "\n",
    "print(estadisticas)\n",
    "print(f\"Porcentaje de Outliers en 'All_aboard': {porcentaje_outliers_all_aboard:.2f}%\")\n",
    "print(f\"Porcentaje de Outliers en 'Cantidad de Fallecidos': {porcentaje_outliers_fallecidos:.2f}%\")\n",
    "print(f\"Porcentaje de Outliers en 'crew_fatalities': {porcentaje_outliers_crew_fatalities:.2f}%\")"
   ]
  },
  {
   "cell_type": "code",
   "execution_count": 28,
   "metadata": {},
   "outputs": [
    {
     "name": "stdout",
     "output_type": "stream",
     "text": [
      "Resultados después de eliminar outliers:\n",
      "        All_aboard  Cantidad de Fallecidos  crew_fatalities\n",
      "count  2159.000000             2159.000000      2159.000000\n",
      "mean     20.269106               14.628069         2.960630\n",
      "std      20.169172               15.252772         2.227727\n",
      "min       0.000000                0.000000         0.000000\n",
      "25%       6.000000                3.000000         1.000000\n",
      "50%      13.000000                9.000000         2.000000\n",
      "75%      28.000000               20.000000         4.000000\n",
      "max     107.000000               69.000000        11.000000\n"
     ]
    }
   ],
   "source": [
    "# Identificar y eliminar filas con outliers\n",
    "df_sin_outliers = df[\n",
    "    ((df['All_aboard'] >= lower_bound['All_aboard']) & (df['All_aboard'] <= upper_bound['All_aboard'])) &\n",
    "    ((df['Cantidad de Fallecidos'] >= lower_bound['Cantidad de Fallecidos']) & (df['Cantidad de Fallecidos'] <= upper_bound['Cantidad de Fallecidos'])) &\n",
    "    ((df['crew_fatalities'] >= lower_bound['crew_fatalities']) & (df['crew_fatalities'] <= upper_bound['crew_fatalities']))\n",
    "]\n",
    "\n",
    "# Obtener estadísticas después de eliminar outliers\n",
    "resultados_despues = df_sin_outliers[['All_aboard', 'Cantidad de Fallecidos', 'crew_fatalities']].describe()\n",
    "\n",
    "print(\"Resultados después de eliminar outliers:\")\n",
    "print(resultados_despues)\n"
   ]
  },
  {
   "cell_type": "code",
   "execution_count": 11,
   "metadata": {},
   "outputs": [],
   "source": [
    "# Cargar df a .csv\"\n",
    "df.to_csv('AccidentesAvionesa.csv', index=False)\n"
   ]
  }
 ],
 "metadata": {
  "kernelspec": {
   "display_name": "Python 3",
   "language": "python",
   "name": "python3"
  },
  "language_info": {
   "codemirror_mode": {
    "name": "ipython",
    "version": 3
   },
   "file_extension": ".py",
   "mimetype": "text/x-python",
   "name": "python",
   "nbconvert_exporter": "python",
   "pygments_lexer": "ipython3",
   "version": "3.11.5"
  }
 },
 "nbformat": 4,
 "nbformat_minor": 2
}
